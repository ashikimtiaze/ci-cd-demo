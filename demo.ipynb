{
 "cells": [
  {
   "cell_type": "code",
   "execution_count": 7,
   "metadata": {},
   "outputs": [],
   "source": [
    "import pandas as pd\n",
    "import matplotlib.pyplot as plt\n",
    "import seaborn as sns\n",
    "import numpy as np"
   ]
  },
  {
   "cell_type": "code",
   "execution_count": 28,
   "metadata": {},
   "outputs": [
    {
     "name": "stdout",
     "output_type": "stream",
     "text": [
      "0.24.2\n"
     ]
    }
   ],
   "source": [
    "print(pd.__version__)"
   ]
  },
  {
   "cell_type": "code",
   "execution_count": 41,
   "metadata": {},
   "outputs": [
    {
     "name": "stdout",
     "output_type": "stream",
     "text": [
      "0     1.0\n",
      "1     3.5\n",
      "2     4.5\n",
      "3    10.0\n",
      "4    25.0\n",
      "dtype: float64\n"
     ]
    }
   ],
   "source": [
    "my_series = pd.Series([1,3.5,4.5,10,25])\n",
    "print (my_series)"
   ]
  },
  {
   "cell_type": "code",
   "execution_count": null,
   "metadata": {},
   "outputs": [],
   "source": [
    "%%bigquery tokens_purchased\n",
    "SELECT\n",
    "    ACCOUNT_NO AS AccountNumber,\n",
    "    DEAL_NAME AS DealName,\n",
    "    AVG(AMOUNT) AS TokensPurchased\n",
    "FROM `nad-svcplan-lab.fap_usage.fap_token_purchase`  \n",
    "GROUP BY AMOUNT, ACCOUNT_NO,DEAL_NAME\n",
    "ORDER BY AMOUNT DESC\n",
    "LIMIT 10"
   ]
  },
  {
   "cell_type": "code",
   "execution_count": 23,
   "metadata": {},
   "outputs": [
    {
     "data": {
      "image/png": "[encoded data removed]",
      "text/plain": [
       "<Figure size 432x288 with 1 Axes>"
      ]
     },
     "metadata": {
      "needs_background": "light"
     },
     "output_type": "display_data"
    }
   ],
   "source": [
    "tokens_purchased.plot(kind='bar', x='DealName', y='TokensPurchased');"
   ]
  },
  {
   "cell_type": "code",
   "execution_count": 6,
   "metadata": {},
   "outputs": [],
   "source": [
    "%%bigquery fap_events\n",
    "SELECT\n",
    "    FAP_event_count AS FapEvents,\n",
    "    HNSSVCOFFNAME AS ServiceName    \n",
    "FROM `nad-svcplan-lab.fap_usage.terminal_weekly_info`  \n",
    "GROUP BY FapEvents, ServiceName\n",
    "ORDER BY FapEvents DESC\n",
    "LIMIT 10"
   ]
  },
  {
   "cell_type": "code",
   "execution_count": 7,
   "metadata": {},
   "outputs": [
    {
     "data": {
      "image/png": "[encoded data removed]",
      "text/plain": [
       "<Figure size 432x288 with 1 Axes>"
      ]
     },
     "metadata": {
      "needs_background": "light"
     },
     "output_type": "display_data"
    }
   ],
   "source": [
    "fap_events.plot(kind='bar', x='ServiceName', y='FapEvents');"
   ]
  },
  {
   "cell_type": "code",
   "execution_count": 53,
   "metadata": {},
   "outputs": [
    {
     "name": "stdout",
     "output_type": "stream",
     "text": [
      "J2 - Devices and Service Plans with the highest FAP Events\n"
     ]
    }
   ],
   "source": [
    "print(\"J2 - Devices and Service Plans with the highest FAP Events\")"
   ]
  },
  {
   "cell_type": "code",
   "execution_count": 39,
   "metadata": {},
   "outputs": [],
   "source": [
    "%%bigquery fap_events\n",
    "SELECT\n",
    "    FAP_event_count AS FapEvents,\n",
    "    HNSSVCOFFNAME AS ServiceName,\n",
    "    DEVICE_ID AS DeviceID\n",
    "FROM `nad-svcplan-lab.fap_usage.terminal_weekly_info_J2`  \n",
    "GROUP BY FapEvents, ServiceName, DeviceID\n",
    "ORDER BY FapEvents DESC"
   ]
  },
  {
   "cell_type": "code",
   "execution_count": 40,
   "metadata": {},
   "outputs": [
    {
     "data": {
      "text/html": [
       "<style  type=\"text/css\" >\n",
       "</style><table id=\"T_b03e4e5e_9390_11e9_8a9d_42010a8a000e\" ><thead>    <tr>        <th class=\"col_heading level0 col0\" >DeviceID</th>        <th class=\"col_heading level0 col1\" >ServiceName</th>        <th class=\"col_heading level0 col2\" >FapEvents</th>    </tr></thead><tbody>\n",
       "                <tr>\n",
       "                                <td id=\"T_b03e4e5e_9390_11e9_8a9d_42010a8a000erow0_col0\" class=\"data row0 col0\" >DSS37343613</td>\n",
       "                        <td id=\"T_b03e4e5e_9390_11e9_8a9d_42010a8a000erow0_col1\" class=\"data row0 col1\" >Gen5_10GB_PR</td>\n",
       "                        <td id=\"T_b03e4e5e_9390_11e9_8a9d_42010a8a000erow0_col2\" class=\"data row0 col2\" >258</td>\n",
       "            </tr>\n",
       "            <tr>\n",
       "                                <td id=\"T_b03e4e5e_9390_11e9_8a9d_42010a8a000erow1_col0\" class=\"data row1 col0\" >DSS37288288</td>\n",
       "                        <td id=\"T_b03e4e5e_9390_11e9_8a9d_42010a8a000erow1_col1\" class=\"data row1 col1\" >Gen5_50GB</td>\n",
       "                        <td id=\"T_b03e4e5e_9390_11e9_8a9d_42010a8a000erow1_col2\" class=\"data row1 col2\" >129</td>\n",
       "            </tr>\n",
       "            <tr>\n",
       "                                <td id=\"T_b03e4e5e_9390_11e9_8a9d_42010a8a000erow2_col0\" class=\"data row2 col0\" >DSS37323054</td>\n",
       "                        <td id=\"T_b03e4e5e_9390_11e9_8a9d_42010a8a000erow2_col1\" class=\"data row2 col1\" >Gen5_10GB</td>\n",
       "                        <td id=\"T_b03e4e5e_9390_11e9_8a9d_42010a8a000erow2_col2\" class=\"data row2 col2\" >118</td>\n",
       "            </tr>\n",
       "            <tr>\n",
       "                                <td id=\"T_b03e4e5e_9390_11e9_8a9d_42010a8a000erow3_col0\" class=\"data row3 col0\" >DSS37238304</td>\n",
       "                        <td id=\"T_b03e4e5e_9390_11e9_8a9d_42010a8a000erow3_col1\" class=\"data row3 col1\" >Gen5_20GB</td>\n",
       "                        <td id=\"T_b03e4e5e_9390_11e9_8a9d_42010a8a000erow3_col2\" class=\"data row3 col2\" >116</td>\n",
       "            </tr>\n",
       "            <tr>\n",
       "                                <td id=\"T_b03e4e5e_9390_11e9_8a9d_42010a8a000erow4_col0\" class=\"data row4 col0\" >DSS37238912</td>\n",
       "                        <td id=\"T_b03e4e5e_9390_11e9_8a9d_42010a8a000erow4_col1\" class=\"data row4 col1\" >Gen5_10GB</td>\n",
       "                        <td id=\"T_b03e4e5e_9390_11e9_8a9d_42010a8a000erow4_col2\" class=\"data row4 col2\" >107</td>\n",
       "            </tr>\n",
       "            <tr>\n",
       "                                <td id=\"T_b03e4e5e_9390_11e9_8a9d_42010a8a000erow5_col0\" class=\"data row5 col0\" >DSS37264400</td>\n",
       "                        <td id=\"T_b03e4e5e_9390_11e9_8a9d_42010a8a000erow5_col1\" class=\"data row5 col1\" >Gen5_10GB(RV_04)</td>\n",
       "                        <td id=\"T_b03e4e5e_9390_11e9_8a9d_42010a8a000erow5_col2\" class=\"data row5 col2\" >91</td>\n",
       "            </tr>\n",
       "            <tr>\n",
       "                                <td id=\"T_b03e4e5e_9390_11e9_8a9d_42010a8a000erow6_col0\" class=\"data row6 col0\" >DSS37206829</td>\n",
       "                        <td id=\"T_b03e4e5e_9390_11e9_8a9d_42010a8a000erow6_col1\" class=\"data row6 col1\" >Gen5_10GB(DISH_03)</td>\n",
       "                        <td id=\"T_b03e4e5e_9390_11e9_8a9d_42010a8a000erow6_col2\" class=\"data row6 col2\" >91</td>\n",
       "            </tr>\n",
       "            <tr>\n",
       "                                <td id=\"T_b03e4e5e_9390_11e9_8a9d_42010a8a000erow7_col0\" class=\"data row7 col0\" >DSS37207478</td>\n",
       "                        <td id=\"T_b03e4e5e_9390_11e9_8a9d_42010a8a000erow7_col1\" class=\"data row7 col1\" >Gen5_10GB(2X00 DTV)_JU_02</td>\n",
       "                        <td id=\"T_b03e4e5e_9390_11e9_8a9d_42010a8a000erow7_col2\" class=\"data row7 col2\" >90</td>\n",
       "            </tr>\n",
       "            <tr>\n",
       "                                <td id=\"T_b03e4e5e_9390_11e9_8a9d_42010a8a000erow8_col0\" class=\"data row8 col0\" >DSS37300782</td>\n",
       "                        <td id=\"T_b03e4e5e_9390_11e9_8a9d_42010a8a000erow8_col1\" class=\"data row8 col1\" >Gen5_10GB</td>\n",
       "                        <td id=\"T_b03e4e5e_9390_11e9_8a9d_42010a8a000erow8_col2\" class=\"data row8 col2\" >88</td>\n",
       "            </tr>\n",
       "            <tr>\n",
       "                                <td id=\"T_b03e4e5e_9390_11e9_8a9d_42010a8a000erow9_col0\" class=\"data row9 col0\" >DSS37238719</td>\n",
       "                        <td id=\"T_b03e4e5e_9390_11e9_8a9d_42010a8a000erow9_col1\" class=\"data row9 col1\" >Gen5_10GB</td>\n",
       "                        <td id=\"T_b03e4e5e_9390_11e9_8a9d_42010a8a000erow9_col2\" class=\"data row9 col2\" >87</td>\n",
       "            </tr>\n",
       "    </tbody></table>"
      ],
      "text/plain": [
       "<pandas.io.formats.style.Styler at 0x7f5f55ca4470>"
      ]
     },
     "execution_count": 40,
     "metadata": {},
     "output_type": "execute_result"
    }
   ],
   "source": [
    "top = fap_events[['DeviceID','ServiceName','FapEvents']].head(10)\n",
    "top.style.hide_index()"
   ]
  },
  {
   "cell_type": "code",
   "execution_count": null,
   "metadata": {},
   "outputs": [],
   "source": []
  }
 ],
 "metadata": {
  "kernelspec": {
   "display_name": "Python 3",
   "language": "python",
   "name": "python3"
  },
  "language_info": {
   "codemirror_mode": {
    "name": "ipython",
    "version": 3
   },
   "file_extension": ".py",
   "mimetype": "text/x-python",
   "name": "python",
   "nbconvert_exporter": "python",
   "pygments_lexer": "ipython3",
   "version": "3.5.3"
  }
 },
 "nbformat": 4,
 "nbformat_minor": 2
}
